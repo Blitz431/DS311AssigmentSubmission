{
 "cells": [
  {
   "cell_type": "markdown",
   "metadata": {},
   "source": [
    "# PyCity Schools Analysis\n",
    "\n",
    "* As a whole, schools with higher budgets, did not yield better test results. By contrast, schools with higher spending per student actually (\\\\$645 - 675) underperformed compared to schools with smaller budgets (\\\\$585 per student).\n",
    "\n",
    "* As a whole, smaller and medium sized schools dramatically out-performed large sized schools on passing math performances (89-91% passing vs 67%).\n",
    "\n",
    "* As a whole, charter schools out-performed the public district schools across all metrics. However, more analysis will be required to glean if the effect is due to school practices or the fact that charter schools tend to serve smaller student populations per school. \n",
    "---"
   ]
  },
  {
   "cell_type": "markdown",
   "metadata": {},
   "source": [
    "**Note:**\n",
    "Instructions have been included for each segment. You do not have to follow them exactly, but they are included to help you think through the steps."
   ]
  },
  {
   "cell_type": "code",
   "execution_count": 1,
   "metadata": {
    "ExecuteTime": {
     "end_time": "2022-08-06T06:08:31.925112Z",
     "start_time": "2022-08-06T06:08:29.337754Z"
    }
   },
   "outputs": [
    {
     "ename": "OperationalError",
     "evalue": "unable to open database file",
     "output_type": "error",
     "traceback": [
      "\u001b[1;31m---------------------------------------------------------------------------\u001b[0m",
      "\u001b[1;31mOperationalError\u001b[0m                          Traceback (most recent call last)",
      "Cell \u001b[1;32mIn[1], line 7\u001b[0m\n\u001b[0;32m      4\u001b[0m \u001b[38;5;28;01mimport\u001b[39;00m \u001b[38;5;21;01msqlite3\u001b[39;00m\n\u001b[0;32m      6\u001b[0m \u001b[38;5;66;03m# loading data from python.db database\u001b[39;00m\n\u001b[1;32m----> 7\u001b[0m con \u001b[38;5;241m=\u001b[39m sqlite3\u001b[38;5;241m.\u001b[39mconnect(\u001b[38;5;124m'\u001b[39m\u001b[38;5;124mdata/python.db\u001b[39m\u001b[38;5;124m'\u001b[39m)\n\u001b[0;32m      9\u001b[0m \u001b[38;5;66;03m# import 'school' and 'student' tables into pandas dataframe\u001b[39;00m\n\u001b[0;32m     10\u001b[0m school_data \u001b[38;5;241m=\u001b[39m pd\u001b[38;5;241m.\u001b[39mread_sql_query(\u001b[38;5;124m\"\u001b[39m\u001b[38;5;124mSELECT * FROM school\u001b[39m\u001b[38;5;124m\"\u001b[39m, con)\n",
      "\u001b[1;31mOperationalError\u001b[0m: unable to open database file"
     ]
    }
   ],
   "source": [
    "# Dependencies and Setup\n",
    "import pandas as pd\n",
    "import numpy as np\n",
    "import sqlite3\n",
    "\n",
    "# loading data from python.db database\n",
    "con = sqlite3.connect('data/python.db')\n",
    "\n",
    "# import 'school' and 'student' tables into pandas dataframe\n",
    "school_data = pd.read_sql_query(\"SELECT * FROM school\", con)\n",
    "student_data = pd.read_sql_query(\"SELECT * FROM student\", con)\n",
    "\n"
   ]
  },
  {
   "cell_type": "code",
   "execution_count": null,
   "metadata": {},
   "outputs": [],
   "source": [
    "# join the two tables into a single dataframe\n",
    "school_data_complete = pd.merge(student_data, school_data, how=\"left\", on=[\"school_name\", \"school_name\"])\n",
    "school_data_complete.head()"
   ]
  },
  {
   "cell_type": "markdown",
   "metadata": {},
   "source": [
    "## District Summary\n",
    "\n",
    "* Calculate the total number of schools\n",
    "\n",
    "* Calculate the total number of students\n",
    "\n",
    "* Calculate the total budget\n",
    "\n",
    "* Calculate the average math score \n",
    "\n",
    "* Calculate the average reading score\n",
    "\n",
    "* Calculate the overall passing rate (overall average score), i.e. (avg. math score + avg. reading score)/2\n",
    "\n",
    "* Calculate the percentage of students with a passing math score (70 or greater)\n",
    "\n",
    "* Calculate the percentage of students with a passing reading score (70 or greater)\n",
    "\n",
    "* Create a dataframe to hold the above results\n",
    "\n",
    "* Optional: give the displayed data cleaner formatting"
   ]
  },
  {
   "cell_type": "code",
   "execution_count": null,
   "metadata": {},
   "outputs": [],
   "source": [
    "# Create a District Summary\n",
    "# Merge school and student data\n",
    "merged_data = pd.merge(student_data, school_data, on=\"school_name\")\n",
    "school_group = merged_data.groupby(\"school_name\")\n",
    "school_summary = pd.DataFrame()\n"
   ]
  },
  {
   "cell_type": "code",
   "execution_count": null,
   "metadata": {},
   "outputs": [],
   "source": [
    "# Total number of schools\n",
    "school_summary[\"School Type\"] = school_group[\"type\"].first()\n",
    "\n"
   ]
  },
  {
   "cell_type": "code",
   "execution_count": null,
   "metadata": {},
   "outputs": [],
   "source": [
    "# Total number of students\n",
    "school_summary[\"Total Students\"] = school_group[\"student_name\"].count()\n"
   ]
  },
  {
   "cell_type": "code",
   "execution_count": null,
   "metadata": {},
   "outputs": [],
   "source": [
    "# Total budget\n",
    "school_summary[\"Total School Budget\"] = school_group[\"budget\"].first()\n"
   ]
  },
  {
   "cell_type": "code",
   "execution_count": null,
   "metadata": {},
   "outputs": [],
   "source": [
    "# Average math score\n",
    "school_summary[\"Average Math Score\"] = school_group[\"math_score\"].mean()\n",
    "school_summary[\"% Passing Math\"] = school_group[\"math_score\"].apply(lambda x: (x >= 70).mean() * 100)\n"
   ]
  },
  {
   "cell_type": "code",
   "execution_count": null,
   "metadata": {},
   "outputs": [],
   "source": [
    "# Average reading score\n",
    "school_summary[\"Average Reading Score\"] = school_group[\"reading_score\"].mean()\n",
    "school_summary[\"% Passing Reading\"] = school_group[\"reading_score\"].apply(lambda x: (x >= 70).mean() * 100)\n"
   ]
  },
  {
   "cell_type": "code",
   "execution_count": null,
   "metadata": {},
   "outputs": [],
   "source": [
    "# Overall average score\n",
    "school_summary[\"Overall Passing Rate\"] = (\n",
    "    school_summary[\"% Passing Math\"] + school_summary[\"% Passing Reading\"]\n",
    ") / 2\n"
   ]
  },
  {
   "cell_type": "code",
   "execution_count": null,
   "metadata": {},
   "outputs": [],
   "source": [
    "# Percentage of passing math (70 or greater)\n",
    "school_summary[\"% Passing Math\"] = school_group[\"math_score\"].apply(lambda x: (x >= 70).mean() * 100)\n",
    "\n",
    "\n"
   ]
  },
  {
   "cell_type": "markdown",
   "metadata": {},
   "source": [
    "## School Summary"
   ]
  },
  {
   "cell_type": "markdown",
   "metadata": {},
   "source": [
    "* Create an overview table that summarizes key metrics about each school, including:\n",
    "  * School Name\n",
    "  * School Type\n",
    "  * Total Students\n",
    "  * Total School Budget\n",
    "  * Per Student Budget\n",
    "  * Average Math Score\n",
    "  * Average Reading Score\n",
    "  * % Passing Math\n",
    "  * % Passing Reading\n",
    "  * Overall Passing Rate (Average of the above two)\n",
    "  \n",
    "* Create a dataframe to hold the above results"
   ]
  },
  {
   "cell_type": "markdown",
   "metadata": {},
   "source": [
    "### Top Performing Schools (By Passing Rate)"
   ]
  },
  {
   "cell_type": "markdown",
   "metadata": {},
   "source": [
    "* Sort and display the top five schools in overall passing rate"
   ]
  },
  {
   "cell_type": "code",
   "execution_count": null,
   "metadata": {},
   "outputs": [],
   "source": [
    "#  Sort and display the top five schools in overall passing rate\n",
    "\n",
    "top_schools = school_summary.sort_values(\"Overall Passing Rate\", ascending=False).head(5)\n",
    "print(top_schools)\n",
    "\n"
   ]
  },
  {
   "cell_type": "code",
   "execution_count": null,
   "metadata": {
    "scrolled": true
   },
   "outputs": [],
   "source": [
    "# Calculate total school budget\n",
    "school_summary[\"Total School Budget\"] = school_group[\"budget\"].first()\n",
    "\n"
   ]
  },
  {
   "cell_type": "code",
   "execution_count": null,
   "metadata": {},
   "outputs": [],
   "source": [
    "# Calculate per student budget\n",
    "school_summary[\"Per Student Budget\"] = school_summary[\"Total School Budget\"] / school_summary[\"Total Students\"]\n",
    "\n",
    "\n"
   ]
  },
  {
   "cell_type": "code",
   "execution_count": null,
   "metadata": {},
   "outputs": [],
   "source": [
    "# Cacluate the avg math and reading score\n",
    "school_summary[\"Average Reading Score\"] = school_group[\"reading_score\"].mean()\n",
    "\n",
    "\n"
   ]
  },
  {
   "cell_type": "markdown",
   "metadata": {},
   "source": [
    "#### Find the passing rate for math and reading (above 70 points)"
   ]
  },
  {
   "cell_type": "code",
   "execution_count": null,
   "metadata": {},
   "outputs": [],
   "source": [
    "# Find the total counts of math result\n",
    "\n",
    "\n",
    "# Find the counts for math result in each school that pass 70 or higher\n",
    "\n",
    "\n",
    "# Calculate the math passing rate\n",
    "\n",
    "school_summary[\"% Passing Math\"] = school_group[\"math_score\"].apply(lambda x: (x >= 70).mean() * 100)\n",
    "print(school_summary[\"% Passing Math\"])\n"
   ]
  },
  {
   "cell_type": "code",
   "execution_count": null,
   "metadata": {},
   "outputs": [],
   "source": [
    "# Find the total counts of read result\n",
    "\n",
    "\n",
    "# Find the counts for read result in each school that pass 70 or higher\n",
    "\n",
    "\n",
    "# Calculate the read passing rate\n",
    "school_summary[\"% Passing Reading\"] = school_group[\"reading_score\"].apply(lambda x: (x >= 70).mean() * 100)\n",
    "print(school_summary[\"% Passing Reading\"])\n",
    "\n"
   ]
  },
  {
   "cell_type": "code",
   "execution_count": null,
   "metadata": {},
   "outputs": [],
   "source": [
    "# Calculate the overall passing rate (average of the math and reading passing rate)\n",
    "school_summary[\"Overall Passing Rate\"] = (\n",
    "    school_summary[\"% Passing Math\"] + school_summary[\"% Passing Reading\"]\n",
    ") / 2\n",
    "print(school_summary[\"Overall Passing Rate\"])\n",
    "\n",
    "\n"
   ]
  },
  {
   "cell_type": "markdown",
   "metadata": {},
   "source": [
    "### Bottom Performing Schools (By Passing Rate)"
   ]
  },
  {
   "cell_type": "markdown",
   "metadata": {},
   "source": [
    "* Sort and display the five worst-performing schools"
   ]
  },
  {
   "cell_type": "code",
   "execution_count": null,
   "metadata": {},
   "outputs": [],
   "source": [
    "#  Sort and display the worst five schools in overall passing rate\n",
    "# Sort schools by Overall Passing Rate in ascending order (worst to best)\n",
    "bottom_schools = school_summary.sort_values(\"Overall Passing Rate\", ascending=True).head(5)\n",
    "print(bottom_schools)\n",
    "\n"
   ]
  },
  {
   "cell_type": "markdown",
   "metadata": {
    "collapsed": true,
    "jupyter": {
     "outputs_hidden": true
    }
   },
   "source": [
    "## Math Scores by Grade"
   ]
  },
  {
   "cell_type": "markdown",
   "metadata": {},
   "source": [
    "* Create a table that lists the average Reading Score for students of each grade level (9th, 10th, 11th, 12th) at each school.\n",
    "\n",
    "  * Create a pandas series for each grade. Hint: use a conditional statement.\n",
    "  \n",
    "  * Group each series by school\n",
    "  \n",
    "  * Combine the series into a dataframe\n",
    "  \n",
    "  * Optional: give the displayed data cleaner formatting"
   ]
  },
  {
   "cell_type": "code",
   "execution_count": null,
   "metadata": {},
   "outputs": [],
   "source": [
    "# Create table that lists the average math score for each school of each grade level.\n",
    "grade_math_scores = school_data_complete.groupby([\"school_name\", \"grade\"])[\"math_score\"].mean()\n",
    "grade_math_table = grade_math_scores.unstack()\n",
    "print(grade_math_table)\n",
    "\n",
    "\n",
    "\n"
   ]
  },
  {
   "cell_type": "code",
   "execution_count": null,
   "metadata": {},
   "outputs": [],
   "source": [
    "# Calculate the average math score for 9th grade in each school\n",
    "ninth_grade = school_data_complete[school_data_complete[\"grade\"] == \"9th\"]\n",
    "ninth_grade_math_scores = ninth_grade.groupby(\"school_name\")[\"math_score\"].mean()\n",
    "print(ninth_grade_math_scores)\n",
    "\n",
    "\n"
   ]
  },
  {
   "cell_type": "code",
   "execution_count": null,
   "metadata": {},
   "outputs": [],
   "source": [
    "# Calculate the average math score for 10th grade in each school\n",
    "tenth_grade = school_data_complete[school_data_complete[\"grade\"] == \"10th\"]\n",
    "tenth_grade_math_scores = tenth_grade.groupby(\"school_name\")[\"math_score\"].mean()\n",
    "print(tenth_grade_math_scores)\n",
    "\n"
   ]
  },
  {
   "cell_type": "code",
   "execution_count": null,
   "metadata": {},
   "outputs": [],
   "source": [
    "# Calculate the average math score for 11th grade in each school\n",
    "eleventh_grade = school_data_complete[school_data_complete[\"grade\"] == \"11th\"]\n",
    "eleventh_grade_math_scores = eleventh_grade.groupby(\"school_name\")[\"math_score\"].mean()\n",
    "print(eleventh_grade_math_scores)\n",
    "\n",
    "\n"
   ]
  },
  {
   "cell_type": "code",
   "execution_count": null,
   "metadata": {},
   "outputs": [],
   "source": [
    "# Calculate the average math score for 12th grade in each school\n",
    "twelfth_grade = school_data_complete[school_data_complete[\"grade\"] == \"12th\"]\n",
    "twelfth_grade_math_scores = twelfth_grade.groupby(\"school_name\")[\"math_score\"].mean()\n",
    "print(twelfth_grade_math_scores)\n",
    "\n",
    "\n"
   ]
  },
  {
   "cell_type": "markdown",
   "metadata": {},
   "source": [
    "### Reading Score by Grade "
   ]
  },
  {
   "cell_type": "markdown",
   "metadata": {},
   "source": [
    "* Perform the same operations as above for reading scores"
   ]
  },
  {
   "cell_type": "code",
   "execution_count": null,
   "metadata": {},
   "outputs": [],
   "source": [
    "# Create table that lists the average reading score for each school of each grade level.\n",
    "grade_reading_scores = school_data_complete.groupby([\"school_name\", \"grade\"])[\"reading_score\"].mean()\n",
    "grade_reading_table = grade_reading_scores.unstack()\n",
    "print(grade_reading_table)\n",
    "\n"
   ]
  },
  {
   "cell_type": "code",
   "execution_count": null,
   "metadata": {},
   "outputs": [],
   "source": [
    "# Calculate the average reading score for 9th grade in each school\n",
    "ninth_grade = school_data_complete[school_data_complete[\"grade\"] == \"9th\"]\n",
    "ninth_grade_reading_scores = ninth_grade.groupby(\"school_name\")[\"reading_score\"].mean()\n",
    "print(ninth_grade_reading_scores)\n",
    "\n"
   ]
  },
  {
   "cell_type": "code",
   "execution_count": null,
   "metadata": {},
   "outputs": [],
   "source": [
    "# Calculate the average reading score for 10th grade in each school\n",
    "tenth_grade = school_data_complete[school_data_complete[\"grade\"] == \"10th\"]\n",
    "tenth_grade_reading_scores = tenth_grade.groupby(\"school_name\")[\"reading_score\"].mean()\n",
    "print(tenth_grade_reading_scores)\n",
    "\n"
   ]
  },
  {
   "cell_type": "code",
   "execution_count": null,
   "metadata": {},
   "outputs": [],
   "source": [
    "# Calculate the average reading score for 11th grade in each school\n",
    "eleventh_grade = school_data_complete[school_data_complete[\"grade\"] == \"11th\"]\n",
    "eleventh_grade_reading_scores = eleventh_grade.groupby(\"school_name\")[\"reading_score\"].mean()\n",
    "print(eleventh_grade_reading_scores)\n"
   ]
  },
  {
   "cell_type": "code",
   "execution_count": null,
   "metadata": {},
   "outputs": [],
   "source": [
    "# Calculate the average reading score for 12th grade in each school\n",
    "twelfth_grade = school_data_complete[school_data_complete[\"grade\"] == \"12th\"]\n",
    "twelfth_grade_reading_scores = twelfth_grade.groupby(\"school_name\")[\"reading_score\"].mean()\n",
    "print(twelfth_grade_reading_scores)\n",
    "\n"
   ]
  },
  {
   "cell_type": "markdown",
   "metadata": {},
   "source": [
    "## Scores by School Spending"
   ]
  },
  {
   "cell_type": "markdown",
   "metadata": {},
   "source": [
    "* Create a table that breaks down school performances based on average Spending Ranges (Per Student). Use 4 reasonable bins to group school spending. Include in the table each of the following:\n",
    "  * Average Math Score\n",
    "  * Average Reading Score\n",
    "  * % Passing Math\n",
    "  * % Passing Reading\n",
    "  * Overall Passing Rate (Average of the above two)"
   ]
  },
  {
   "cell_type": "code",
   "execution_count": null,
   "metadata": {},
   "outputs": [],
   "source": [
    "# Sample bins. Feel free to create your own bins.\n",
    "spending_bins = [0, 585, 615, 645, 675]\n",
    "group_names = [\"<$585\", \"$585-615\", \"$615-645\", \"$645-675\"]"
   ]
  },
  {
   "cell_type": "code",
   "execution_count": null,
   "metadata": {},
   "outputs": [],
   "source": [
    "# Create a new column to show budget per student in each row\n",
    "school_data_complete[\"Per Student Budget\"] = school_data_complete[\"budget\"] / school_data_complete[\"size\"]\n",
    "print(school_data_complete[\"Per Student Budget\"])\n",
    "\n"
   ]
  },
  {
   "cell_type": "code",
   "execution_count": null,
   "metadata": {},
   "outputs": [],
   "source": [
    "# Create a new column to define the spending ranges per student\n",
    "school_data_complete[\"Spending Ranges (Per Student)\"] = pd.cut(\n",
    "    school_data_complete[\"Per Student Budget\"],\n",
    "    bins=[0, 585, 615, 645, 675],\n",
    "    labels=[\"<$585\", \"$585-615\", \"$615-645\", \"$645-675\"]\n",
    ")\n",
    "print(school_data_complete[\"Spending Ranges (Per Student)\"])\n",
    "\n",
    "\n"
   ]
  },
  {
   "cell_type": "code",
   "execution_count": null,
   "metadata": {},
   "outputs": [],
   "source": [
    "# Calculate the average math score within each spending range\n",
    "spending_math_scores = school_data_complete.groupby(\n",
    "    \"Spending Ranges (Per Student)\", observed=True\n",
    ")[\"math_score\"].mean()\n",
    "\n",
    "print(spending_math_scores)\n",
    "\n",
    "\n",
    "\n",
    "\n"
   ]
  },
  {
   "cell_type": "code",
   "execution_count": null,
   "metadata": {},
   "outputs": [],
   "source": [
    "# Calculate the percentage passing rate for math in each spending range\n",
    "math_scores_by_spending = school_data_complete.groupby(\n",
    "    \"Spending Ranges (Per Student)\", observed=True\n",
    ")[\"math_score\"].mean()\n",
    "\n",
    "print(math_scores_by_spending)\n",
    "\n",
    "\n",
    "\n",
    "\n"
   ]
  },
  {
   "cell_type": "code",
   "execution_count": null,
   "metadata": {},
   "outputs": [],
   "source": [
    "# Calculate the percentage passing rate for reading in each spending range\n",
    "passing_reading_by_spending = school_data_complete[school_data_complete[\"reading_score\"] >= 70].groupby(\n",
    "    \"Spending Ranges (Per Student)\", observed=True\n",
    ")[\"student_name\"].count() / school_data_complete.groupby(\n",
    "    \"Spending Ranges (Per Student)\", observed=True\n",
    ")[\"student_name\"].count() * 100\n",
    "\n",
    "print(passing_reading_by_spending)\n",
    "\n",
    "\n"
   ]
  },
  {
   "cell_type": "code",
   "execution_count": null,
   "metadata": {},
   "outputs": [],
   "source": [
    "# Calculate the percentage overall passing rate in each spending range\n",
    "overall_passing_by_spending = overall_passing.groupby(\n",
    "    \"Spending Ranges (Per Student)\", observed=True\n",
    ")[\"student_name\"].count() / school_data_complete.groupby(\n",
    "    \"Spending Ranges (Per Student)\", observed=True\n",
    ")[\"student_name\"].count() * 100\n",
    "\n",
    "print(overall_passing_by_spending)\n",
    "\n",
    "\n"
   ]
  },
  {
   "cell_type": "markdown",
   "metadata": {},
   "source": [
    "### Scores by School Size"
   ]
  },
  {
   "cell_type": "markdown",
   "metadata": {},
   "source": [
    "* Perform the same operations as above, based on school size."
   ]
  },
  {
   "cell_type": "code",
   "execution_count": null,
   "metadata": {},
   "outputs": [],
   "source": [
    "# Sample bins. Feel free to create your own bins.\n",
    "size_bins = [0, 1000, 2000, 5000]\n",
    "group_names = [\"Small (<1000)\", \"Medium (1000-2000)\", \"Large (2000-5000)\"]"
   ]
  },
  {
   "cell_type": "code",
   "execution_count": null,
   "metadata": {
    "scrolled": true
   },
   "outputs": [],
   "source": [
    "# Create a new column for the bin groups\n",
    "school_data_complete[\"School Size\"] = pd.cut(\n",
    "    school_data_complete[\"size\"],\n",
    "    bins=[0, 1000, 2000, 5000],\n",
    "    labels=[\"Small (<1000)\", \"Medium (1000-2000)\", \"Large (2000-5000)\"]\n",
    ")\n"
   ]
  },
  {
   "cell_type": "markdown",
   "metadata": {},
   "source": [
    "Look for the total count of test scores that pass 70% or higher\n",
    "\n",
    "\n"
   ]
  },
  {
   "cell_type": "code",
   "execution_count": null,
   "metadata": {},
   "outputs": [],
   "source": [
    "# math_pass_size\n",
    "math_pass_size = school_data_complete[school_data_complete[\"math_score\"] >= 70].groupby(\n",
    "    \"School Size\", observed=True\n",
    ")[\"student_name\"].count()\n",
    "print(math_pass_size)\n",
    "\n",
    "\n"
   ]
  },
  {
   "cell_type": "code",
   "execution_count": null,
   "metadata": {},
   "outputs": [],
   "source": [
    "# read_pass_size\n",
    "read_pass_size = school_data_complete[school_data_complete[\"reading_score\"] >= 70].groupby(\n",
    "    \"School Size\", observed=True\n",
    ")[\"student_name\"].count()\n",
    "print(read_pass_size)\n",
    "\n",
    "\n"
   ]
  },
  {
   "cell_type": "code",
   "execution_count": null,
   "metadata": {},
   "outputs": [],
   "source": [
    "# Calculate the overall passing rate for different school size\n",
    "overall_pass = school_data_complete[\n",
    "    (school_data_complete[\"math_score\"] >= 70) &\n",
    "    (school_data_complete[\"reading_score\"] >= 70)\n",
    "]\n",
    "total_by_size = school_data_complete.groupby(\"School Size\", observed=True)[\"student_name\"].count()\n",
    "\n",
    "passing_by_size = overall_pass.groupby(\"School Size\", observed=True)[\"student_name\"].count()\n",
    "\n",
    "overall_pass_rate_by_size = (passing_by_size / total_by_size) * 100\n",
    "\n",
    "print(overall_pass_rate_by_size)\n",
    "\n"
   ]
  },
  {
   "cell_type": "markdown",
   "metadata": {},
   "source": [
    "### Scores by School Type"
   ]
  },
  {
   "cell_type": "markdown",
   "metadata": {},
   "source": [
    "* Perform the same operations as above, based on school type."
   ]
  },
  {
   "cell_type": "code",
   "execution_count": null,
   "metadata": {},
   "outputs": [],
   "source": [
    "# Create bins and groups, school type {'Charter', 'District'}\n",
    "school_type_group = school_data_complete.groupby(\"type\", observed=True)\n",
    "print(school_type_group.size())\n",
    "\n",
    "\n"
   ]
  },
  {
   "cell_type": "markdown",
   "metadata": {},
   "source": [
    "Find counts of the passing 70 or higher score for the both test\n"
   ]
  },
  {
   "cell_type": "code",
   "execution_count": null,
   "metadata": {},
   "outputs": [],
   "source": [
    "# math pass size\n",
    "math_pass_type = school_data_complete[school_data_complete[\"math_score\"] >= 70].groupby(\n",
    "    \"type\", observed=True\n",
    ")[\"student_name\"].count()\n",
    "print(math_pass_type)\n",
    "\n",
    "\n"
   ]
  },
  {
   "cell_type": "code",
   "execution_count": null,
   "metadata": {},
   "outputs": [],
   "source": [
    "# reading pass size\n",
    "reading_pass_type = school_data_complete[school_data_complete[\"reading_score\"] >= 70].groupby(\n",
    "    \"type\", observed=True\n",
    ")[\"student_name\"].count()\n",
    "print(reading_pass_type)\n",
    "\n"
   ]
  },
  {
   "cell_type": "code",
   "execution_count": null,
   "metadata": {},
   "outputs": [],
   "source": [
    "# Calculate the overall passing rate\n",
    "overall_pass_type = school_data_complete[\n",
    "    (school_data_complete[\"math_score\"] >= 70) &\n",
    "    (school_data_complete[\"reading_score\"] >= 70)\n",
    "].groupby(\"type\", observed=True)[\"student_name\"].count() / school_data_complete.groupby(\n",
    "    \"type\", observed=True\n",
    ")[\"student_name\"].count() * 100\n",
    "\n",
    "print(overall_pass_type)\n",
    "\n"
   ]
  }
 ],
 "metadata": {
  "anaconda-cloud": {},
  "kernel_info": {
   "name": "python3"
  },
  "kernelspec": {
   "display_name": "Python 3 (ipykernel)",
   "language": "python",
   "name": "python3"
  },
  "language_info": {
   "codemirror_mode": {
    "name": "ipython",
    "version": 3
   },
   "file_extension": ".py",
   "mimetype": "text/x-python",
   "name": "python",
   "nbconvert_exporter": "python",
   "pygments_lexer": "ipython3",
   "version": "3.12.7"
  },
  "latex_envs": {
   "LaTeX_envs_menu_present": true,
   "autoclose": false,
   "autocomplete": true,
   "bibliofile": "biblio.bib",
   "cite_by": "apalike",
   "current_citInitial": 1,
   "eqLabelWithNumbers": true,
   "eqNumInitial": 1,
   "hotkeys": {
    "equation": "Ctrl-E",
    "itemize": "Ctrl-I"
   },
   "labels_anchors": false,
   "latex_user_defs": false,
   "report_style_numbering": false,
   "user_envs_cfg": false
  },
  "nteract": {
   "version": "0.8.4"
  },
  "toc": {
   "base_numbering": 1,
   "nav_menu": {},
   "number_sections": true,
   "sideBar": true,
   "skip_h1_title": false,
   "title_cell": "Table of Contents",
   "title_sidebar": "Contents",
   "toc_cell": false,
   "toc_position": {},
   "toc_section_display": true,
   "toc_window_display": false
  }
 },
 "nbformat": 4,
 "nbformat_minor": 4
}

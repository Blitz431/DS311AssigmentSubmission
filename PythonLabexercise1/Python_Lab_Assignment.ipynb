{
 "cells": [
  {
   "cell_type": "markdown",
   "metadata": {},
   "source": [
    "# PyCity Schools Analysis\n",
    "\n",
    "* As a whole, schools with higher budgets, did not yield better test results. By contrast, schools with higher spending per student actually (\\\\$645 - 675) underperformed compared to schools with smaller budgets (\\\\$585 per student).\n",
    "\n",
    "* As a whole, smaller and medium sized schools dramatically out-performed large sized schools on passing math performances (89-91% passing vs 67%).\n",
    "\n",
    "* As a whole, charter schools out-performed the public district schools across all metrics. However, more analysis will be required to glean if the effect is due to school practices or the fact that charter schools tend to serve smaller student populations per school. \n",
    "---"
   ]
  },
  {
   "cell_type": "markdown",
   "metadata": {},
   "source": [
    "**Note:**\n",
    "Instructions have been included for each segment. You do not have to follow them exactly, but they are included to help you think through the steps."
   ]
  },
  {
   "cell_type": "code",
   "execution_count": 141,
   "metadata": {
    "ExecuteTime": {
     "end_time": "2022-08-06T06:08:31.925112Z",
     "start_time": "2022-08-06T06:08:29.337754Z"
    }
   },
   "outputs": [],
   "source": [
    "# Dependencies and Setup\n",
    "import pandas as pd\n",
    "import numpy as np\n",
    "import sqlite3\n",
    "\n",
    "# loading data from python.db database\n",
    "con = sqlite3.connect('data/python.db')\n",
    "\n",
    "# import 'school' and 'student' tables into pandas dataframe\n",
    "school_data = pd.read_sql_query(\"SELECT * FROM school\", con)\n",
    "student_data = pd.read_sql_query(\"SELECT * FROM student\", con)\n",
    "\n"
   ]
  },
  {
   "cell_type": "code",
   "execution_count": 142,
   "metadata": {},
   "outputs": [
    {
     "data": {
      "text/html": [
       "<div>\n",
       "<style scoped>\n",
       "    .dataframe tbody tr th:only-of-type {\n",
       "        vertical-align: middle;\n",
       "    }\n",
       "\n",
       "    .dataframe tbody tr th {\n",
       "        vertical-align: top;\n",
       "    }\n",
       "\n",
       "    .dataframe thead th {\n",
       "        text-align: right;\n",
       "    }\n",
       "</style>\n",
       "<table border=\"1\" class=\"dataframe\">\n",
       "  <thead>\n",
       "    <tr style=\"text-align: right;\">\n",
       "      <th></th>\n",
       "      <th>id_x</th>\n",
       "      <th>Student ID</th>\n",
       "      <th>student_name</th>\n",
       "      <th>gender</th>\n",
       "      <th>grade</th>\n",
       "      <th>school_name</th>\n",
       "      <th>reading_score</th>\n",
       "      <th>math_score</th>\n",
       "      <th>id_y</th>\n",
       "      <th>School ID</th>\n",
       "      <th>type</th>\n",
       "      <th>size</th>\n",
       "      <th>budget</th>\n",
       "    </tr>\n",
       "  </thead>\n",
       "  <tbody>\n",
       "    <tr>\n",
       "      <th>0</th>\n",
       "      <td>0</td>\n",
       "      <td>0</td>\n",
       "      <td>Paul Bradley</td>\n",
       "      <td>M</td>\n",
       "      <td>9th</td>\n",
       "      <td>Huang High School</td>\n",
       "      <td>66</td>\n",
       "      <td>79</td>\n",
       "      <td>0</td>\n",
       "      <td>0</td>\n",
       "      <td>District</td>\n",
       "      <td>2917</td>\n",
       "      <td>1910635</td>\n",
       "    </tr>\n",
       "    <tr>\n",
       "      <th>1</th>\n",
       "      <td>1</td>\n",
       "      <td>1</td>\n",
       "      <td>Victor Smith</td>\n",
       "      <td>M</td>\n",
       "      <td>12th</td>\n",
       "      <td>Huang High School</td>\n",
       "      <td>94</td>\n",
       "      <td>61</td>\n",
       "      <td>0</td>\n",
       "      <td>0</td>\n",
       "      <td>District</td>\n",
       "      <td>2917</td>\n",
       "      <td>1910635</td>\n",
       "    </tr>\n",
       "    <tr>\n",
       "      <th>2</th>\n",
       "      <td>2</td>\n",
       "      <td>2</td>\n",
       "      <td>Kevin Rodriguez</td>\n",
       "      <td>M</td>\n",
       "      <td>12th</td>\n",
       "      <td>Huang High School</td>\n",
       "      <td>90</td>\n",
       "      <td>60</td>\n",
       "      <td>0</td>\n",
       "      <td>0</td>\n",
       "      <td>District</td>\n",
       "      <td>2917</td>\n",
       "      <td>1910635</td>\n",
       "    </tr>\n",
       "    <tr>\n",
       "      <th>3</th>\n",
       "      <td>3</td>\n",
       "      <td>3</td>\n",
       "      <td>Dr. Richard Scott</td>\n",
       "      <td>M</td>\n",
       "      <td>12th</td>\n",
       "      <td>Huang High School</td>\n",
       "      <td>67</td>\n",
       "      <td>58</td>\n",
       "      <td>0</td>\n",
       "      <td>0</td>\n",
       "      <td>District</td>\n",
       "      <td>2917</td>\n",
       "      <td>1910635</td>\n",
       "    </tr>\n",
       "    <tr>\n",
       "      <th>4</th>\n",
       "      <td>4</td>\n",
       "      <td>4</td>\n",
       "      <td>Bonnie Ray</td>\n",
       "      <td>F</td>\n",
       "      <td>9th</td>\n",
       "      <td>Huang High School</td>\n",
       "      <td>97</td>\n",
       "      <td>84</td>\n",
       "      <td>0</td>\n",
       "      <td>0</td>\n",
       "      <td>District</td>\n",
       "      <td>2917</td>\n",
       "      <td>1910635</td>\n",
       "    </tr>\n",
       "  </tbody>\n",
       "</table>\n",
       "</div>"
      ],
      "text/plain": [
       "   id_x  Student ID       student_name gender grade        school_name  \\\n",
       "0     0           0       Paul Bradley      M   9th  Huang High School   \n",
       "1     1           1       Victor Smith      M  12th  Huang High School   \n",
       "2     2           2    Kevin Rodriguez      M  12th  Huang High School   \n",
       "3     3           3  Dr. Richard Scott      M  12th  Huang High School   \n",
       "4     4           4         Bonnie Ray      F   9th  Huang High School   \n",
       "\n",
       "   reading_score  math_score  id_y  School ID      type  size   budget  \n",
       "0             66          79     0          0  District  2917  1910635  \n",
       "1             94          61     0          0  District  2917  1910635  \n",
       "2             90          60     0          0  District  2917  1910635  \n",
       "3             67          58     0          0  District  2917  1910635  \n",
       "4             97          84     0          0  District  2917  1910635  "
      ]
     },
     "execution_count": 142,
     "metadata": {},
     "output_type": "execute_result"
    }
   ],
   "source": [
    "# join the two tables into a single dataframe\n",
    "school_data_complete = pd.merge(student_data, school_data, how=\"left\", on=[\"school_name\", \"school_name\"])\n",
    "school_data_complete.head()"
   ]
  },
  {
   "cell_type": "markdown",
   "metadata": {},
   "source": [
    "## District Summary\n",
    "\n",
    "* Calculate the total number of schools\n",
    "\n",
    "* Calculate the total number of students\n",
    "\n",
    "* Calculate the total budget\n",
    "\n",
    "* Calculate the average math score \n",
    "\n",
    "* Calculate the average reading score\n",
    "\n",
    "* Calculate the overall passing rate (overall average score), i.e. (avg. math score + avg. reading score)/2\n",
    "\n",
    "* Calculate the percentage of students with a passing math score (70 or greater)\n",
    "\n",
    "* Calculate the percentage of students with a passing reading score (70 or greater)\n",
    "\n",
    "* Create a dataframe to hold the above results\n",
    "\n",
    "* Optional: give the displayed data cleaner formatting"
   ]
  },
  {
   "cell_type": "code",
   "execution_count": 143,
   "metadata": {},
   "outputs": [],
   "source": [
    "# Create a District Summary\n",
    "# Merge school and student data\n",
    "merged_data = pd.merge(student_data, school_data, on=\"school_name\")\n",
    "school_group = merged_data.groupby(\"school_name\")\n",
    "school_summary = pd.DataFrame()\n"
   ]
  },
  {
   "cell_type": "code",
   "execution_count": 144,
   "metadata": {},
   "outputs": [],
   "source": [
    "# Total number of schools\n",
    "school_summary[\"School Type\"] = school_group[\"type\"].first()\n",
    "\n"
   ]
  },
  {
   "cell_type": "code",
   "execution_count": 145,
   "metadata": {},
   "outputs": [],
   "source": [
    "# Total number of students\n",
    "school_summary[\"Total Students\"] = school_group[\"student_name\"].count()\n"
   ]
  },
  {
   "cell_type": "code",
   "execution_count": 146,
   "metadata": {},
   "outputs": [],
   "source": [
    "# Total budget\n",
    "school_summary[\"Total School Budget\"] = school_group[\"budget\"].first()\n"
   ]
  },
  {
   "cell_type": "code",
   "execution_count": 147,
   "metadata": {},
   "outputs": [],
   "source": [
    "# Average math score\n",
    "school_summary[\"Average Math Score\"] = school_group[\"math_score\"].mean()\n",
    "school_summary[\"% Passing Math\"] = school_group[\"math_score\"].apply(lambda x: (x >= 70).mean() * 100)\n"
   ]
  },
  {
   "cell_type": "code",
   "execution_count": 148,
   "metadata": {},
   "outputs": [],
   "source": [
    "# Average reading score\n",
    "school_summary[\"Average Reading Score\"] = school_group[\"reading_score\"].mean()\n",
    "school_summary[\"% Passing Reading\"] = school_group[\"reading_score\"].apply(lambda x: (x >= 70).mean() * 100)\n"
   ]
  },
  {
   "cell_type": "code",
   "execution_count": 149,
   "metadata": {},
   "outputs": [],
   "source": [
    "# Overall average score\n",
    "school_summary[\"Overall Passing Rate\"] = (\n",
    "    school_summary[\"% Passing Math\"] + school_summary[\"% Passing Reading\"]\n",
    ") / 2\n"
   ]
  },
  {
   "cell_type": "code",
   "execution_count": 150,
   "metadata": {},
   "outputs": [],
   "source": [
    "# Percentage of passing math (70 or greater)\n",
    "school_summary[\"% Passing Math\"] = school_group[\"math_score\"].apply(lambda x: (x >= 70).mean() * 100)\n",
    "\n",
    "\n"
   ]
  },
  {
   "cell_type": "markdown",
   "metadata": {},
   "source": [
    "## School Summary"
   ]
  },
  {
   "cell_type": "markdown",
   "metadata": {},
   "source": [
    "* Create an overview table that summarizes key metrics about each school, including:\n",
    "  * School Name\n",
    "  * School Type\n",
    "  * Total Students\n",
    "  * Total School Budget\n",
    "  * Per Student Budget\n",
    "  * Average Math Score\n",
    "  * Average Reading Score\n",
    "  * % Passing Math\n",
    "  * % Passing Reading\n",
    "  * Overall Passing Rate (Average of the above two)\n",
    "  \n",
    "* Create a dataframe to hold the above results"
   ]
  },
  {
   "cell_type": "markdown",
   "metadata": {},
   "source": [
    "### Top Performing Schools (By Passing Rate)"
   ]
  },
  {
   "cell_type": "markdown",
   "metadata": {},
   "source": [
    "* Sort and display the top five schools in overall passing rate"
   ]
  },
  {
   "cell_type": "code",
   "execution_count": 151,
   "metadata": {},
   "outputs": [
    {
     "name": "stdout",
     "output_type": "stream",
     "text": [
      "                    School Type  Total Students  Total School Budget  \\\n",
      "school_name                                                            \n",
      "Cabrera High School     Charter            1858              1081356   \n",
      "Thomas High School      Charter            1635              1043130   \n",
      "Pena High School        Charter             962               585858   \n",
      "Griffin High School     Charter            1468               917500   \n",
      "Wilson High School      Charter            2283              1319574   \n",
      "\n",
      "                     Average Math Score  % Passing Math  \\\n",
      "school_name                                               \n",
      "Cabrera High School           83.061895       94.133477   \n",
      "Thomas High School            83.418349       93.272171   \n",
      "Pena High School              83.839917       94.594595   \n",
      "Griffin High School           83.351499       93.392371   \n",
      "Wilson High School            83.274201       93.867718   \n",
      "\n",
      "                     Average Reading Score  % Passing Reading  \\\n",
      "school_name                                                     \n",
      "Cabrera High School              83.975780          97.039828   \n",
      "Thomas High School               83.848930          97.308869   \n",
      "Pena High School                 84.044699          95.945946   \n",
      "Griffin High School              83.816757          97.138965   \n",
      "Wilson High School               83.989488          96.539641   \n",
      "\n",
      "                     Overall Passing Rate  \n",
      "school_name                                \n",
      "Cabrera High School             95.586652  \n",
      "Thomas High School              95.290520  \n",
      "Pena High School                95.270270  \n",
      "Griffin High School             95.265668  \n",
      "Wilson High School              95.203679  \n"
     ]
    }
   ],
   "source": [
    "#  Sort and display the top five schools in overall passing rate\n",
    "\n",
    "top_schools = school_summary.sort_values(\"Overall Passing Rate\", ascending=False).head(5)\n",
    "print(top_schools)\n",
    "\n"
   ]
  },
  {
   "cell_type": "code",
   "execution_count": 152,
   "metadata": {
    "scrolled": true
   },
   "outputs": [],
   "source": [
    "# Calculate total school budget\n",
    "school_summary[\"Total School Budget\"] = school_group[\"budget\"].first()\n",
    "\n"
   ]
  },
  {
   "cell_type": "code",
   "execution_count": 153,
   "metadata": {},
   "outputs": [],
   "source": [
    "# Calculate per student budget\n",
    "school_summary[\"Per Student Budget\"] = school_summary[\"Total School Budget\"] / school_summary[\"Total Students\"]\n",
    "\n",
    "\n"
   ]
  },
  {
   "cell_type": "code",
   "execution_count": 154,
   "metadata": {},
   "outputs": [],
   "source": [
    "# Cacluate the avg math and reading score\n",
    "school_summary[\"Average Reading Score\"] = school_group[\"reading_score\"].mean()\n",
    "\n",
    "\n"
   ]
  },
  {
   "cell_type": "markdown",
   "metadata": {},
   "source": [
    "#### Find the passing rate for math and reading (above 70 points)"
   ]
  },
  {
   "cell_type": "code",
   "execution_count": 155,
   "metadata": {},
   "outputs": [
    {
     "name": "stdout",
     "output_type": "stream",
     "text": [
      "school_name\n",
      "Bailey High School       66.680064\n",
      "Cabrera High School      94.133477\n",
      "Figueroa High School     65.988471\n",
      "Ford High School         68.309602\n",
      "Griffin High School      93.392371\n",
      "Hernandez High School    66.752967\n",
      "Holden High School       92.505855\n",
      "Huang High School        65.683922\n",
      "Johnson High School      66.057551\n",
      "Pena High School         94.594595\n",
      "Rodriguez High School    66.366592\n",
      "Shelton High School      93.867121\n",
      "Thomas High School       93.272171\n",
      "Wilson High School       93.867718\n",
      "Wright High School       93.333333\n",
      "Name: % Passing Math, dtype: float64\n"
     ]
    }
   ],
   "source": [
    "# Find the total counts of math result\n",
    "\n",
    "\n",
    "# Find the counts for math result in each school that pass 70 or higher\n",
    "\n",
    "\n",
    "# Calculate the math passing rate\n",
    "\n",
    "school_summary[\"% Passing Math\"] = school_group[\"math_score\"].apply(lambda x: (x >= 70).mean() * 100)\n",
    "print(school_summary[\"% Passing Math\"])\n"
   ]
  },
  {
   "cell_type": "code",
   "execution_count": 156,
   "metadata": {},
   "outputs": [
    {
     "name": "stdout",
     "output_type": "stream",
     "text": [
      "school_name\n",
      "Bailey High School       81.933280\n",
      "Cabrera High School      97.039828\n",
      "Figueroa High School     80.739234\n",
      "Ford High School         79.299014\n",
      "Griffin High School      97.138965\n",
      "Hernandez High School    80.862999\n",
      "Holden High School       96.252927\n",
      "Huang High School        81.316421\n",
      "Johnson High School      81.222432\n",
      "Pena High School         95.945946\n",
      "Rodriguez High School    80.220055\n",
      "Shelton High School      95.854628\n",
      "Thomas High School       97.308869\n",
      "Wilson High School       96.539641\n",
      "Wright High School       96.611111\n",
      "Name: % Passing Reading, dtype: float64\n"
     ]
    }
   ],
   "source": [
    "# Find the total counts of read result\n",
    "\n",
    "\n",
    "# Find the counts for read result in each school that pass 70 or higher\n",
    "\n",
    "\n",
    "# Calculate the read passing rate\n",
    "school_summary[\"% Passing Reading\"] = school_group[\"reading_score\"].apply(lambda x: (x >= 70).mean() * 100)\n",
    "print(school_summary[\"% Passing Reading\"])\n",
    "\n"
   ]
  },
  {
   "cell_type": "code",
   "execution_count": 157,
   "metadata": {},
   "outputs": [
    {
     "name": "stdout",
     "output_type": "stream",
     "text": [
      "school_name\n",
      "Bailey High School       74.306672\n",
      "Cabrera High School      95.586652\n",
      "Figueroa High School     73.363852\n",
      "Ford High School         73.804308\n",
      "Griffin High School      95.265668\n",
      "Hernandez High School    73.807983\n",
      "Holden High School       94.379391\n",
      "Huang High School        73.500171\n",
      "Johnson High School      73.639992\n",
      "Pena High School         95.270270\n",
      "Rodriguez High School    73.293323\n",
      "Shelton High School      94.860875\n",
      "Thomas High School       95.290520\n",
      "Wilson High School       95.203679\n",
      "Wright High School       94.972222\n",
      "Name: Overall Passing Rate, dtype: float64\n"
     ]
    }
   ],
   "source": [
    "# Calculate the overall passing rate (average of the math and reading passing rate)\n",
    "school_summary[\"Overall Passing Rate\"] = (\n",
    "    school_summary[\"% Passing Math\"] + school_summary[\"% Passing Reading\"]\n",
    ") / 2\n",
    "print(school_summary[\"Overall Passing Rate\"])\n",
    "\n",
    "\n"
   ]
  },
  {
   "cell_type": "code",
   "execution_count": null,
   "metadata": {},
   "outputs": [],
   "source": []
  },
  {
   "cell_type": "code",
   "execution_count": null,
   "metadata": {},
   "outputs": [],
   "source": []
  },
  {
   "cell_type": "code",
   "execution_count": null,
   "metadata": {},
   "outputs": [],
   "source": []
  },
  {
   "cell_type": "markdown",
   "metadata": {},
   "source": [
    "### Bottom Performing Schools (By Passing Rate)"
   ]
  },
  {
   "cell_type": "markdown",
   "metadata": {},
   "source": [
    "* Sort and display the five worst-performing schools"
   ]
  },
  {
   "cell_type": "code",
   "execution_count": 158,
   "metadata": {},
   "outputs": [
    {
     "name": "stdout",
     "output_type": "stream",
     "text": [
      "                      School Type  Total Students  Total School Budget  \\\n",
      "school_name                                                              \n",
      "Rodriguez High School    District            3999              2547363   \n",
      "Figueroa High School     District            2949              1884411   \n",
      "Huang High School        District            2917              1910635   \n",
      "Johnson High School      District            4761              3094650   \n",
      "Ford High School         District            2739              1763916   \n",
      "\n",
      "                       Average Math Score  % Passing Math  \\\n",
      "school_name                                                 \n",
      "Rodriguez High School           76.842711       66.366592   \n",
      "Figueroa High School            76.711767       65.988471   \n",
      "Huang High School               76.629414       65.683922   \n",
      "Johnson High School             77.072464       66.057551   \n",
      "Ford High School                77.102592       68.309602   \n",
      "\n",
      "                       Average Reading Score  % Passing Reading  \\\n",
      "school_name                                                       \n",
      "Rodriguez High School              80.744686          80.220055   \n",
      "Figueroa High School               81.158020          80.739234   \n",
      "Huang High School                  81.182722          81.316421   \n",
      "Johnson High School                80.966394          81.222432   \n",
      "Ford High School                   80.746258          79.299014   \n",
      "\n",
      "                       Overall Passing Rate  Per Student Budget  \n",
      "school_name                                                      \n",
      "Rodriguez High School             73.293323               637.0  \n",
      "Figueroa High School              73.363852               639.0  \n",
      "Huang High School                 73.500171               655.0  \n",
      "Johnson High School               73.639992               650.0  \n",
      "Ford High School                  73.804308               644.0  \n"
     ]
    }
   ],
   "source": [
    "#  Sort and display the worst five schools in overall passing rate\n",
    "# Sort schools by Overall Passing Rate in ascending order (worst to best)\n",
    "bottom_schools = school_summary.sort_values(\"Overall Passing Rate\", ascending=True).head(5)\n",
    "print(bottom_schools)\n",
    "\n"
   ]
  },
  {
   "cell_type": "markdown",
   "metadata": {
    "collapsed": true,
    "jupyter": {
     "outputs_hidden": true
    }
   },
   "source": [
    "## Math Scores by Grade"
   ]
  },
  {
   "cell_type": "markdown",
   "metadata": {},
   "source": [
    "* Create a table that lists the average Reading Score for students of each grade level (9th, 10th, 11th, 12th) at each school.\n",
    "\n",
    "  * Create a pandas series for each grade. Hint: use a conditional statement.\n",
    "  \n",
    "  * Group each series by school\n",
    "  \n",
    "  * Combine the series into a dataframe\n",
    "  \n",
    "  * Optional: give the displayed data cleaner formatting"
   ]
  },
  {
   "cell_type": "code",
   "execution_count": 159,
   "metadata": {},
   "outputs": [
    {
     "name": "stdout",
     "output_type": "stream",
     "text": [
      "grade                       10th       11th       12th        9th\n",
      "school_name                                                      \n",
      "Bailey High School     76.996772  77.515588  76.492218  77.083676\n",
      "Cabrera High School    83.154506  82.765560  83.277487  83.094697\n",
      "Figueroa High School   76.539974  76.884344  77.151369  76.403037\n",
      "Ford High School       77.672316  76.918058  76.179963  77.361345\n",
      "Griffin High School    84.229064  83.842105  83.356164  82.044010\n",
      "Hernandez High School  77.337408  77.136029  77.186567  77.438495\n",
      "Holden High School     83.429825  85.000000  82.855422  83.787402\n",
      "Huang High School      75.908735  76.446602  77.225641  77.027251\n",
      "Johnson High School    76.691117  77.491653  76.863248  77.187857\n",
      "Pena High School       83.372000  84.328125  84.121547  83.625455\n",
      "Rodriguez High School  76.612500  76.395626  77.690748  76.859966\n",
      "Shelton High School    82.917411  83.383495  83.778976  83.420755\n",
      "Thomas High School     83.087886  83.498795  83.497041  83.590022\n",
      "Wilson High School     83.724422  83.195326  83.035794  83.085578\n",
      "Wright High School     84.010288  83.836782  83.644986  83.264706\n"
     ]
    }
   ],
   "source": [
    "# Create table that lists the average math score for each school of each grade level.\n",
    "grade_math_scores = school_data_complete.groupby([\"school_name\", \"grade\"])[\"math_score\"].mean()\n",
    "grade_math_table = grade_math_scores.unstack()\n",
    "print(grade_math_table)\n",
    "\n",
    "\n",
    "\n"
   ]
  },
  {
   "cell_type": "code",
   "execution_count": 160,
   "metadata": {},
   "outputs": [
    {
     "name": "stdout",
     "output_type": "stream",
     "text": [
      "school_name\n",
      "Bailey High School       77.083676\n",
      "Cabrera High School      83.094697\n",
      "Figueroa High School     76.403037\n",
      "Ford High School         77.361345\n",
      "Griffin High School      82.044010\n",
      "Hernandez High School    77.438495\n",
      "Holden High School       83.787402\n",
      "Huang High School        77.027251\n",
      "Johnson High School      77.187857\n",
      "Pena High School         83.625455\n",
      "Rodriguez High School    76.859966\n",
      "Shelton High School      83.420755\n",
      "Thomas High School       83.590022\n",
      "Wilson High School       83.085578\n",
      "Wright High School       83.264706\n",
      "Name: math_score, dtype: float64\n"
     ]
    }
   ],
   "source": [
    "# Calculate the average math score for 9th grade in each school\n",
    "ninth_grade = school_data_complete[school_data_complete[\"grade\"] == \"9th\"]\n",
    "ninth_grade_math_scores = ninth_grade.groupby(\"school_name\")[\"math_score\"].mean()\n",
    "print(ninth_grade_math_scores)\n",
    "\n",
    "\n"
   ]
  },
  {
   "cell_type": "code",
   "execution_count": 161,
   "metadata": {},
   "outputs": [
    {
     "name": "stdout",
     "output_type": "stream",
     "text": [
      "school_name\n",
      "Bailey High School       76.996772\n",
      "Cabrera High School      83.154506\n",
      "Figueroa High School     76.539974\n",
      "Ford High School         77.672316\n",
      "Griffin High School      84.229064\n",
      "Hernandez High School    77.337408\n",
      "Holden High School       83.429825\n",
      "Huang High School        75.908735\n",
      "Johnson High School      76.691117\n",
      "Pena High School         83.372000\n",
      "Rodriguez High School    76.612500\n",
      "Shelton High School      82.917411\n",
      "Thomas High School       83.087886\n",
      "Wilson High School       83.724422\n",
      "Wright High School       84.010288\n",
      "Name: math_score, dtype: float64\n"
     ]
    }
   ],
   "source": [
    "# Calculate the average math score for 10th grade in each school\n",
    "tenth_grade = school_data_complete[school_data_complete[\"grade\"] == \"10th\"]\n",
    "tenth_grade_math_scores = tenth_grade.groupby(\"school_name\")[\"math_score\"].mean()\n",
    "print(tenth_grade_math_scores)\n",
    "\n"
   ]
  },
  {
   "cell_type": "code",
   "execution_count": 162,
   "metadata": {},
   "outputs": [
    {
     "name": "stdout",
     "output_type": "stream",
     "text": [
      "school_name\n",
      "Bailey High School       77.515588\n",
      "Cabrera High School      82.765560\n",
      "Figueroa High School     76.884344\n",
      "Ford High School         76.918058\n",
      "Griffin High School      83.842105\n",
      "Hernandez High School    77.136029\n",
      "Holden High School       85.000000\n",
      "Huang High School        76.446602\n",
      "Johnson High School      77.491653\n",
      "Pena High School         84.328125\n",
      "Rodriguez High School    76.395626\n",
      "Shelton High School      83.383495\n",
      "Thomas High School       83.498795\n",
      "Wilson High School       83.195326\n",
      "Wright High School       83.836782\n",
      "Name: math_score, dtype: float64\n"
     ]
    }
   ],
   "source": [
    "# Calculate the average math score for 11th grade in each school\n",
    "eleventh_grade = school_data_complete[school_data_complete[\"grade\"] == \"11th\"]\n",
    "eleventh_grade_math_scores = eleventh_grade.groupby(\"school_name\")[\"math_score\"].mean()\n",
    "print(eleventh_grade_math_scores)\n",
    "\n",
    "\n"
   ]
  },
  {
   "cell_type": "code",
   "execution_count": 163,
   "metadata": {},
   "outputs": [
    {
     "name": "stdout",
     "output_type": "stream",
     "text": [
      "school_name\n",
      "Bailey High School       76.492218\n",
      "Cabrera High School      83.277487\n",
      "Figueroa High School     77.151369\n",
      "Ford High School         76.179963\n",
      "Griffin High School      83.356164\n",
      "Hernandez High School    77.186567\n",
      "Holden High School       82.855422\n",
      "Huang High School        77.225641\n",
      "Johnson High School      76.863248\n",
      "Pena High School         84.121547\n",
      "Rodriguez High School    77.690748\n",
      "Shelton High School      83.778976\n",
      "Thomas High School       83.497041\n",
      "Wilson High School       83.035794\n",
      "Wright High School       83.644986\n",
      "Name: math_score, dtype: float64\n"
     ]
    }
   ],
   "source": [
    "# Calculate the average math score for 12th grade in each school\n",
    "twelfth_grade = school_data_complete[school_data_complete[\"grade\"] == \"12th\"]\n",
    "twelfth_grade_math_scores = twelfth_grade.groupby(\"school_name\")[\"math_score\"].mean()\n",
    "print(twelfth_grade_math_scores)\n",
    "\n",
    "\n"
   ]
  },
  {
   "cell_type": "markdown",
   "metadata": {},
   "source": [
    "### Reading Score by Grade "
   ]
  },
  {
   "cell_type": "markdown",
   "metadata": {},
   "source": [
    "* Perform the same operations as above for reading scores"
   ]
  },
  {
   "cell_type": "code",
   "execution_count": 164,
   "metadata": {},
   "outputs": [
    {
     "name": "stdout",
     "output_type": "stream",
     "text": [
      "grade                       10th       11th       12th        9th\n",
      "school_name                                                      \n",
      "Bailey High School     80.907183  80.945643  80.912451  81.303155\n",
      "Cabrera High School    84.253219  83.788382  84.287958  83.676136\n",
      "Figueroa High School   81.408912  80.640339  81.384863  81.198598\n",
      "Ford High School       81.262712  80.403642  80.662338  80.632653\n",
      "Griffin High School    83.706897  84.288089  84.013699  83.369193\n",
      "Hernandez High School  80.660147  81.396140  80.857143  80.866860\n",
      "Holden High School     83.324561  83.815534  84.698795  83.677165\n",
      "Huang High School      81.512386  81.417476  80.305983  81.290284\n",
      "Johnson High School    80.773431  80.616027  81.227564  81.260714\n",
      "Pena High School       83.612000  84.335938  84.591160  83.807273\n",
      "Rodriguez High School  80.629808  80.864811  80.376426  80.993127\n",
      "Shelton High School    83.441964  84.373786  82.781671  84.122642\n",
      "Thomas High School     84.254157  83.585542  83.831361  83.728850\n",
      "Wilson High School     84.021452  83.764608  84.317673  83.939778\n",
      "Wright High School     83.812757  84.156322  84.073171  83.833333\n"
     ]
    }
   ],
   "source": [
    "# Create table that lists the average reading score for each school of each grade level.\n",
    "grade_reading_scores = school_data_complete.groupby([\"school_name\", \"grade\"])[\"reading_score\"].mean()\n",
    "grade_reading_table = grade_reading_scores.unstack()\n",
    "print(grade_reading_table)\n",
    "\n"
   ]
  },
  {
   "cell_type": "code",
   "execution_count": 165,
   "metadata": {},
   "outputs": [
    {
     "name": "stdout",
     "output_type": "stream",
     "text": [
      "school_name\n",
      "Bailey High School       81.303155\n",
      "Cabrera High School      83.676136\n",
      "Figueroa High School     81.198598\n",
      "Ford High School         80.632653\n",
      "Griffin High School      83.369193\n",
      "Hernandez High School    80.866860\n",
      "Holden High School       83.677165\n",
      "Huang High School        81.290284\n",
      "Johnson High School      81.260714\n",
      "Pena High School         83.807273\n",
      "Rodriguez High School    80.993127\n",
      "Shelton High School      84.122642\n",
      "Thomas High School       83.728850\n",
      "Wilson High School       83.939778\n",
      "Wright High School       83.833333\n",
      "Name: reading_score, dtype: float64\n"
     ]
    }
   ],
   "source": [
    "# Calculate the average reading score for 9th grade in each school\n",
    "ninth_grade = school_data_complete[school_data_complete[\"grade\"] == \"9th\"]\n",
    "ninth_grade_reading_scores = ninth_grade.groupby(\"school_name\")[\"reading_score\"].mean()\n",
    "print(ninth_grade_reading_scores)\n",
    "\n"
   ]
  },
  {
   "cell_type": "code",
   "execution_count": 166,
   "metadata": {},
   "outputs": [
    {
     "name": "stdout",
     "output_type": "stream",
     "text": [
      "school_name\n",
      "Bailey High School       80.907183\n",
      "Cabrera High School      84.253219\n",
      "Figueroa High School     81.408912\n",
      "Ford High School         81.262712\n",
      "Griffin High School      83.706897\n",
      "Hernandez High School    80.660147\n",
      "Holden High School       83.324561\n",
      "Huang High School        81.512386\n",
      "Johnson High School      80.773431\n",
      "Pena High School         83.612000\n",
      "Rodriguez High School    80.629808\n",
      "Shelton High School      83.441964\n",
      "Thomas High School       84.254157\n",
      "Wilson High School       84.021452\n",
      "Wright High School       83.812757\n",
      "Name: reading_score, dtype: float64\n"
     ]
    }
   ],
   "source": [
    "# Calculate the average reading score for 10th grade in each school\n",
    "tenth_grade = school_data_complete[school_data_complete[\"grade\"] == \"10th\"]\n",
    "tenth_grade_reading_scores = tenth_grade.groupby(\"school_name\")[\"reading_score\"].mean()\n",
    "print(tenth_grade_reading_scores)\n",
    "\n"
   ]
  },
  {
   "cell_type": "code",
   "execution_count": 167,
   "metadata": {},
   "outputs": [
    {
     "name": "stdout",
     "output_type": "stream",
     "text": [
      "school_name\n",
      "Bailey High School       80.945643\n",
      "Cabrera High School      83.788382\n",
      "Figueroa High School     80.640339\n",
      "Ford High School         80.403642\n",
      "Griffin High School      84.288089\n",
      "Hernandez High School    81.396140\n",
      "Holden High School       83.815534\n",
      "Huang High School        81.417476\n",
      "Johnson High School      80.616027\n",
      "Pena High School         84.335938\n",
      "Rodriguez High School    80.864811\n",
      "Shelton High School      84.373786\n",
      "Thomas High School       83.585542\n",
      "Wilson High School       83.764608\n",
      "Wright High School       84.156322\n",
      "Name: reading_score, dtype: float64\n"
     ]
    }
   ],
   "source": [
    "# Calculate the average reading score for 11th grade in each school\n",
    "eleventh_grade = school_data_complete[school_data_complete[\"grade\"] == \"11th\"]\n",
    "eleventh_grade_reading_scores = eleventh_grade.groupby(\"school_name\")[\"reading_score\"].mean()\n",
    "print(eleventh_grade_reading_scores)\n"
   ]
  },
  {
   "cell_type": "code",
   "execution_count": 168,
   "metadata": {},
   "outputs": [
    {
     "name": "stdout",
     "output_type": "stream",
     "text": [
      "school_name\n",
      "Bailey High School       80.912451\n",
      "Cabrera High School      84.287958\n",
      "Figueroa High School     81.384863\n",
      "Ford High School         80.662338\n",
      "Griffin High School      84.013699\n",
      "Hernandez High School    80.857143\n",
      "Holden High School       84.698795\n",
      "Huang High School        80.305983\n",
      "Johnson High School      81.227564\n",
      "Pena High School         84.591160\n",
      "Rodriguez High School    80.376426\n",
      "Shelton High School      82.781671\n",
      "Thomas High School       83.831361\n",
      "Wilson High School       84.317673\n",
      "Wright High School       84.073171\n",
      "Name: reading_score, dtype: float64\n"
     ]
    }
   ],
   "source": [
    "# Calculate the average reading score for 12th grade in each school\n",
    "twelfth_grade = school_data_complete[school_data_complete[\"grade\"] == \"12th\"]\n",
    "twelfth_grade_reading_scores = twelfth_grade.groupby(\"school_name\")[\"reading_score\"].mean()\n",
    "print(twelfth_grade_reading_scores)\n",
    "\n"
   ]
  },
  {
   "cell_type": "markdown",
   "metadata": {},
   "source": [
    "## Scores by School Spending"
   ]
  },
  {
   "cell_type": "markdown",
   "metadata": {},
   "source": [
    "* Create a table that breaks down school performances based on average Spending Ranges (Per Student). Use 4 reasonable bins to group school spending. Include in the table each of the following:\n",
    "  * Average Math Score\n",
    "  * Average Reading Score\n",
    "  * % Passing Math\n",
    "  * % Passing Reading\n",
    "  * Overall Passing Rate (Average of the above two)"
   ]
  },
  {
   "cell_type": "code",
   "execution_count": 169,
   "metadata": {},
   "outputs": [],
   "source": [
    "# Sample bins. Feel free to create your own bins.\n",
    "spending_bins = [0, 585, 615, 645, 675]\n",
    "group_names = [\"<$585\", \"$585-615\", \"$615-645\", \"$645-675\"]"
   ]
  },
  {
   "cell_type": "code",
   "execution_count": 170,
   "metadata": {},
   "outputs": [
    {
     "name": "stdout",
     "output_type": "stream",
     "text": [
      "0        655.0\n",
      "1        655.0\n",
      "2        655.0\n",
      "3        655.0\n",
      "4        655.0\n",
      "         ...  \n",
      "39165    638.0\n",
      "39166    638.0\n",
      "39167    638.0\n",
      "39168    638.0\n",
      "39169    638.0\n",
      "Name: Per Student Budget, Length: 39170, dtype: float64\n"
     ]
    }
   ],
   "source": [
    "# Create a new column to show budget per student in each row\n",
    "school_data_complete[\"Per Student Budget\"] = school_data_complete[\"budget\"] / school_data_complete[\"size\"]\n",
    "print(school_data_complete[\"Per Student Budget\"])\n",
    "\n"
   ]
  },
  {
   "cell_type": "code",
   "execution_count": 171,
   "metadata": {},
   "outputs": [
    {
     "name": "stdout",
     "output_type": "stream",
     "text": [
      "0        $645-675\n",
      "1        $645-675\n",
      "2        $645-675\n",
      "3        $645-675\n",
      "4        $645-675\n",
      "           ...   \n",
      "39165    $615-645\n",
      "39166    $615-645\n",
      "39167    $615-645\n",
      "39168    $615-645\n",
      "39169    $615-645\n",
      "Name: Spending Ranges (Per Student), Length: 39170, dtype: category\n",
      "Categories (4, object): ['<$585' < '$585-615' < '$615-645' < '$645-675']\n"
     ]
    }
   ],
   "source": [
    "# Create a new column to define the spending ranges per student\n",
    "school_data_complete[\"Spending Ranges (Per Student)\"] = pd.cut(\n",
    "    school_data_complete[\"Per Student Budget\"],\n",
    "    bins=[0, 585, 615, 645, 675],\n",
    "    labels=[\"<$585\", \"$585-615\", \"$615-645\", \"$645-675\"]\n",
    ")\n",
    "print(school_data_complete[\"Spending Ranges (Per Student)\"])\n",
    "\n",
    "\n"
   ]
  },
  {
   "cell_type": "code",
   "execution_count": 172,
   "metadata": {},
   "outputs": [
    {
     "name": "stdout",
     "output_type": "stream",
     "text": [
      "Spending Ranges (Per Student)\n",
      "<$585       83.363065\n",
      "$585-615    83.529196\n",
      "$615-645    78.061635\n",
      "$645-675    77.049297\n",
      "Name: math_score, dtype: float64\n"
     ]
    }
   ],
   "source": [
    "# Calculate the average math score within each spending range\n",
    "spending_math_scores = school_data_complete.groupby(\n",
    "    \"Spending Ranges (Per Student)\", observed=True\n",
    ")[\"math_score\"].mean()\n",
    "\n",
    "print(spending_math_scores)\n",
    "\n",
    "\n",
    "\n",
    "\n"
   ]
  },
  {
   "cell_type": "code",
   "execution_count": 173,
   "metadata": {},
   "outputs": [
    {
     "name": "stdout",
     "output_type": "stream",
     "text": [
      "Spending Ranges (Per Student)\n",
      "<$585       83.363065\n",
      "$585-615    83.529196\n",
      "$615-645    78.061635\n",
      "$645-675    77.049297\n",
      "Name: math_score, dtype: float64\n"
     ]
    }
   ],
   "source": [
    "# Calculate the percentage passing rate for math in each spending range\n",
    "math_scores_by_spending = school_data_complete.groupby(\n",
    "    \"Spending Ranges (Per Student)\", observed=True\n",
    ")[\"math_score\"].mean()\n",
    "\n",
    "print(math_scores_by_spending)\n",
    "\n",
    "\n",
    "\n",
    "\n"
   ]
  },
  {
   "cell_type": "code",
   "execution_count": 174,
   "metadata": {},
   "outputs": [
    {
     "name": "stdout",
     "output_type": "stream",
     "text": [
      "Spending Ranges (Per Student)\n",
      "<$585       96.686558\n",
      "$585-615    95.886889\n",
      "$615-645    83.614770\n",
      "$645-675    81.109397\n",
      "Name: student_name, dtype: float64\n"
     ]
    }
   ],
   "source": [
    "# Calculate the percentage passing rate for reading in each spending range\n",
    "passing_reading_by_spending = school_data_complete[school_data_complete[\"reading_score\"] >= 70].groupby(\n",
    "    \"Spending Ranges (Per Student)\", observed=True\n",
    ")[\"student_name\"].count() / school_data_complete.groupby(\n",
    "    \"Spending Ranges (Per Student)\", observed=True\n",
    ")[\"student_name\"].count() * 100\n",
    "\n",
    "print(passing_reading_by_spending)\n",
    "\n",
    "\n"
   ]
  },
  {
   "cell_type": "code",
   "execution_count": 175,
   "metadata": {},
   "outputs": [
    {
     "name": "stdout",
     "output_type": "stream",
     "text": [
      "Spending Ranges (Per Student)\n",
      "<$585       90.640704\n",
      "$585-615    90.121190\n",
      "$615-645    60.289317\n",
      "$645-675    53.528791\n",
      "Name: student_name, dtype: float64\n"
     ]
    }
   ],
   "source": [
    "# Calculate the percentage overall passing rate in each spending range\n",
    "overall_passing_by_spending = overall_passing.groupby(\n",
    "    \"Spending Ranges (Per Student)\", observed=True\n",
    ")[\"student_name\"].count() / school_data_complete.groupby(\n",
    "    \"Spending Ranges (Per Student)\", observed=True\n",
    ")[\"student_name\"].count() * 100\n",
    "\n",
    "print(overall_passing_by_spending)\n",
    "\n",
    "\n"
   ]
  },
  {
   "cell_type": "markdown",
   "metadata": {},
   "source": [
    "### Scores by School Size"
   ]
  },
  {
   "cell_type": "markdown",
   "metadata": {},
   "source": [
    "* Perform the same operations as above, based on school size."
   ]
  },
  {
   "cell_type": "code",
   "execution_count": 176,
   "metadata": {},
   "outputs": [],
   "source": [
    "# Sample bins. Feel free to create your own bins.\n",
    "size_bins = [0, 1000, 2000, 5000]\n",
    "group_names = [\"Small (<1000)\", \"Medium (1000-2000)\", \"Large (2000-5000)\"]"
   ]
  },
  {
   "cell_type": "code",
   "execution_count": 177,
   "metadata": {
    "scrolled": true
   },
   "outputs": [],
   "source": [
    "# Create a new column for the bin groups\n",
    "school_data_complete[\"School Size\"] = pd.cut(\n",
    "    school_data_complete[\"size\"],\n",
    "    bins=[0, 1000, 2000, 5000],\n",
    "    labels=[\"Small (<1000)\", \"Medium (1000-2000)\", \"Large (2000-5000)\"]\n",
    ")\n"
   ]
  },
  {
   "cell_type": "markdown",
   "metadata": {},
   "source": [
    "Look for the total count of test scores that pass 70% or higher\n",
    "\n",
    "\n"
   ]
  },
  {
   "cell_type": "code",
   "execution_count": 178,
   "metadata": {},
   "outputs": [
    {
     "name": "stdout",
     "output_type": "stream",
     "text": [
      "School Size\n",
      "Small (<1000)          1305\n",
      "Medium (1000-2000)     7978\n",
      "Large (2000-5000)     20087\n",
      "Name: student_name, dtype: int64\n"
     ]
    }
   ],
   "source": [
    "# math_pass_size\n",
    "math_pass_size = school_data_complete[school_data_complete[\"math_score\"] >= 70].groupby(\n",
    "    \"School Size\", observed=True\n",
    ")[\"student_name\"].count()\n",
    "print(math_pass_size)\n",
    "\n",
    "\n"
   ]
  },
  {
   "cell_type": "code",
   "execution_count": 179,
   "metadata": {},
   "outputs": [
    {
     "name": "stdout",
     "output_type": "stream",
     "text": [
      "School Size\n",
      "Small (<1000)          1334\n",
      "Medium (1000-2000)     8247\n",
      "Large (2000-5000)     24029\n",
      "Name: student_name, dtype: int64\n"
     ]
    }
   ],
   "source": [
    "# read_pass_size\n",
    "read_pass_size = school_data_complete[school_data_complete[\"reading_score\"] >= 70].groupby(\n",
    "    \"School Size\", observed=True\n",
    ")[\"student_name\"].count()\n",
    "print(read_pass_size)\n",
    "\n",
    "\n"
   ]
  },
  {
   "cell_type": "code",
   "execution_count": 180,
   "metadata": {},
   "outputs": [
    {
     "name": "stdout",
     "output_type": "stream",
     "text": [
      "School Size\n",
      "Small (<1000)         90.136789\n",
      "Medium (1000-2000)    90.624267\n",
      "Large (2000-5000)     56.574046\n",
      "Name: student_name, dtype: float64\n"
     ]
    }
   ],
   "source": [
    "# Calculate the overall passing rate for different school size\n",
    "overall_pass = school_data_complete[\n",
    "    (school_data_complete[\"math_score\"] >= 70) &\n",
    "    (school_data_complete[\"reading_score\"] >= 70)\n",
    "]\n",
    "total_by_size = school_data_complete.groupby(\"School Size\", observed=True)[\"student_name\"].count()\n",
    "\n",
    "passing_by_size = overall_pass.groupby(\"School Size\", observed=True)[\"student_name\"].count()\n",
    "\n",
    "overall_pass_rate_by_size = (passing_by_size / total_by_size) * 100\n",
    "\n",
    "print(overall_pass_rate_by_size)\n",
    "\n"
   ]
  },
  {
   "cell_type": "markdown",
   "metadata": {},
   "source": [
    "### Scores by School Type"
   ]
  },
  {
   "cell_type": "markdown",
   "metadata": {},
   "source": [
    "* Perform the same operations as above, based on school type."
   ]
  },
  {
   "cell_type": "code",
   "execution_count": 181,
   "metadata": {},
   "outputs": [
    {
     "name": "stdout",
     "output_type": "stream",
     "text": [
      "type\n",
      "Charter     12194\n",
      "District    26976\n",
      "dtype: int64\n"
     ]
    }
   ],
   "source": [
    "# Create bins and groups, school type {'Charter', 'District'}\n",
    "school_type_group = school_data_complete.groupby(\"type\", observed=True)\n",
    "print(school_type_group.size())\n",
    "\n",
    "\n"
   ]
  },
  {
   "cell_type": "markdown",
   "metadata": {},
   "source": [
    "Find counts of the passing 70 or higher score for the both test\n"
   ]
  },
  {
   "cell_type": "code",
   "execution_count": 182,
   "metadata": {},
   "outputs": [
    {
     "name": "stdout",
     "output_type": "stream",
     "text": [
      "type\n",
      "Charter     11426\n",
      "District    17944\n",
      "Name: student_name, dtype: int64\n"
     ]
    }
   ],
   "source": [
    "# math pass size\n",
    "math_pass_type = school_data_complete[school_data_complete[\"math_score\"] >= 70].groupby(\n",
    "    \"type\", observed=True\n",
    ")[\"student_name\"].count()\n",
    "print(math_pass_type)\n",
    "\n",
    "\n"
   ]
  },
  {
   "cell_type": "code",
   "execution_count": 183,
   "metadata": {},
   "outputs": [
    {
     "name": "stdout",
     "output_type": "stream",
     "text": [
      "type\n",
      "Charter     11785\n",
      "District    21825\n",
      "Name: student_name, dtype: int64\n"
     ]
    }
   ],
   "source": [
    "# reading pass size\n",
    "reading_pass_type = school_data_complete[school_data_complete[\"reading_score\"] >= 70].groupby(\n",
    "    \"type\", observed=True\n",
    ")[\"student_name\"].count()\n",
    "print(reading_pass_type)\n",
    "\n"
   ]
  },
  {
   "cell_type": "code",
   "execution_count": 184,
   "metadata": {},
   "outputs": [
    {
     "name": "stdout",
     "output_type": "stream",
     "text": [
      "type\n",
      "Charter     90.560932\n",
      "District    53.695878\n",
      "Name: student_name, dtype: float64\n"
     ]
    }
   ],
   "source": [
    "# Calculate the overall passing rate\n",
    "overall_pass_type = school_data_complete[\n",
    "    (school_data_complete[\"math_score\"] >= 70) &\n",
    "    (school_data_complete[\"reading_score\"] >= 70)\n",
    "].groupby(\"type\", observed=True)[\"student_name\"].count() / school_data_complete.groupby(\n",
    "    \"type\", observed=True\n",
    ")[\"student_name\"].count() * 100\n",
    "\n",
    "print(overall_pass_type)\n",
    "\n"
   ]
  },
  {
   "cell_type": "code",
   "execution_count": null,
   "metadata": {},
   "outputs": [],
   "source": []
  },
  {
   "cell_type": "code",
   "execution_count": null,
   "metadata": {},
   "outputs": [],
   "source": []
  }
 ],
 "metadata": {
  "anaconda-cloud": {},
  "kernel_info": {
   "name": "python3"
  },
  "kernelspec": {
   "display_name": "Python 3 (ipykernel)",
   "language": "python",
   "name": "python3"
  },
  "language_info": {
   "codemirror_mode": {
    "name": "ipython",
    "version": 3
   },
   "file_extension": ".py",
   "mimetype": "text/x-python",
   "name": "python",
   "nbconvert_exporter": "python",
   "pygments_lexer": "ipython3",
   "version": "3.12.7"
  },
  "latex_envs": {
   "LaTeX_envs_menu_present": true,
   "autoclose": false,
   "autocomplete": true,
   "bibliofile": "biblio.bib",
   "cite_by": "apalike",
   "current_citInitial": 1,
   "eqLabelWithNumbers": true,
   "eqNumInitial": 1,
   "hotkeys": {
    "equation": "Ctrl-E",
    "itemize": "Ctrl-I"
   },
   "labels_anchors": false,
   "latex_user_defs": false,
   "report_style_numbering": false,
   "user_envs_cfg": false
  },
  "nteract": {
   "version": "0.8.4"
  },
  "toc": {
   "base_numbering": 1,
   "nav_menu": {},
   "number_sections": true,
   "sideBar": true,
   "skip_h1_title": false,
   "title_cell": "Table of Contents",
   "title_sidebar": "Contents",
   "toc_cell": false,
   "toc_position": {},
   "toc_section_display": true,
   "toc_window_display": false
  }
 },
 "nbformat": 4,
 "nbformat_minor": 4
}
